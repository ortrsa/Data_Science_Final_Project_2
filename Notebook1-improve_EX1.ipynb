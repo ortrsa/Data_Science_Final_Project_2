{
 "cells": [
  {
   "cell_type": "markdown",
   "metadata": {},
   "source": [
    "<a href=\"https://ibb.co/FW1ZZYW\"><img src=\"https://i.ibb.co/X4P0054/cardiovasculardisease.jpg\" alt=\"cardiovasculardisease\" width=\"1000\"></a>"
   ]
  },
  {
   "cell_type": "markdown",
   "metadata": {},
   "source": [
    "# Cardio Disease Classification"
   ]
  },
  {
   "cell_type": "markdown",
   "metadata": {},
   "source": [
    "# Notebook 3 - classification:"
   ]
  },
  {
   "cell_type": "markdown",
   "metadata": {},
   "source": [
    "### Content:\n",
    "Features:\n",
    "\n",
    "age | int (days)  \n",
    "height | int (cm)   \n",
    "weight | float (kg)   \n",
    "gender | categorical code   \n",
    "Systolic | ap_hi | int   \n",
    "Diastolic | ap_lo | int   \n",
    "Cholesterol |  1: normal, 2: above normal, 3: well above normal   \n",
    "Glucose | 1: normal, 2: above normal, 3: well above normal   \n",
    "Smoking | binary   \n",
    "Alcohol intake | binary   \n",
    "Physical activity | binary   \n",
    "Presence or absence of cardiovascular disease |binary   \n",
    "## to get the most from our data we will make 2 more features wich will be explained later. \n"
   ]
  },
  {
   "cell_type": "markdown",
   "metadata": {},
   "source": [
    "kaggle link - https://www.kaggle.com/sulianova/cardiovascular-disease-dataset"
   ]
  },
  {
   "cell_type": "markdown",
   "metadata": {},
   "source": [
    "## Imports and read form csv:"
   ]
  },
  {
   "cell_type": "code",
   "execution_count": 1,
   "metadata": {},
   "outputs": [],
   "source": [
    "# Basic imports\n",
    "import pandas as pd\n",
    "import seaborn as sns\n",
    "import matplotlib.pyplot as plt\n",
    "import numpy as np\n",
    "\n",
    "# preprocessing and split\n",
    "from sklearn.model_selection import train_test_split as split\n",
    "from sklearn.preprocessing import StandardScaler\n",
    "\n",
    "# models\n",
    "from sklearn.neighbors import KNeighborsClassifier\n",
    "from sklearn.dummy import DummyClassifier\n",
    "from sklearn.linear_model import LogisticRegression\n",
    "from sklearn.ensemble import AdaBoostClassifier\n",
    "from sklearn.tree import DecisionTreeClassifier\n",
    "from sklearn.ensemble import GradientBoostingClassifier\n",
    "\n",
    "\n",
    "# Scores and reports\n",
    "from sklearn.model_selection import cross_val_score\n",
    "from sklearn.metrics import confusion_matrix, classification_report, roc_auc_score, plot_roc_curve\n",
    "df = pd.read_csv('data/data.csv')\n"
   ]
  },
  {
   "cell_type": "markdown",
   "metadata": {},
   "source": [
    "## Basic info:"
   ]
  },
  {
   "cell_type": "code",
   "execution_count": 2,
   "metadata": {},
   "outputs": [
    {
     "data": {
      "text/plain": [
       "(70000, 14)"
      ]
     },
     "execution_count": 2,
     "metadata": {},
     "output_type": "execute_result"
    }
   ],
   "source": [
    "df.shape"
   ]
  },
  {
   "cell_type": "code",
   "execution_count": 3,
   "metadata": {},
   "outputs": [
    {
     "data": {
      "text/html": [
       "<div>\n",
       "<style scoped>\n",
       "    .dataframe tbody tr th:only-of-type {\n",
       "        vertical-align: middle;\n",
       "    }\n",
       "\n",
       "    .dataframe tbody tr th {\n",
       "        vertical-align: top;\n",
       "    }\n",
       "\n",
       "    .dataframe thead th {\n",
       "        text-align: right;\n",
       "    }\n",
       "</style>\n",
       "<table border=\"1\" class=\"dataframe\">\n",
       "  <thead>\n",
       "    <tr style=\"text-align: right;\">\n",
       "      <th></th>\n",
       "      <th>id</th>\n",
       "      <th>age_days</th>\n",
       "      <th>age_year</th>\n",
       "      <th>gender</th>\n",
       "      <th>height</th>\n",
       "      <th>weight</th>\n",
       "      <th>ap_hi</th>\n",
       "      <th>ap_lo</th>\n",
       "      <th>cholesterol</th>\n",
       "      <th>gluc</th>\n",
       "      <th>smoke</th>\n",
       "      <th>alco</th>\n",
       "      <th>active</th>\n",
       "      <th>cardio</th>\n",
       "    </tr>\n",
       "  </thead>\n",
       "  <tbody>\n",
       "    <tr>\n",
       "      <th>0</th>\n",
       "      <td>0</td>\n",
       "      <td>18393</td>\n",
       "      <td>50.391781</td>\n",
       "      <td>2</td>\n",
       "      <td>168</td>\n",
       "      <td>62.0</td>\n",
       "      <td>110</td>\n",
       "      <td>80</td>\n",
       "      <td>1</td>\n",
       "      <td>1</td>\n",
       "      <td>0</td>\n",
       "      <td>0</td>\n",
       "      <td>1</td>\n",
       "      <td>0</td>\n",
       "    </tr>\n",
       "    <tr>\n",
       "      <th>1</th>\n",
       "      <td>1</td>\n",
       "      <td>20228</td>\n",
       "      <td>55.419178</td>\n",
       "      <td>1</td>\n",
       "      <td>156</td>\n",
       "      <td>85.0</td>\n",
       "      <td>140</td>\n",
       "      <td>90</td>\n",
       "      <td>3</td>\n",
       "      <td>1</td>\n",
       "      <td>0</td>\n",
       "      <td>0</td>\n",
       "      <td>1</td>\n",
       "      <td>1</td>\n",
       "    </tr>\n",
       "    <tr>\n",
       "      <th>2</th>\n",
       "      <td>2</td>\n",
       "      <td>18857</td>\n",
       "      <td>51.663014</td>\n",
       "      <td>1</td>\n",
       "      <td>165</td>\n",
       "      <td>64.0</td>\n",
       "      <td>130</td>\n",
       "      <td>70</td>\n",
       "      <td>3</td>\n",
       "      <td>1</td>\n",
       "      <td>0</td>\n",
       "      <td>0</td>\n",
       "      <td>0</td>\n",
       "      <td>1</td>\n",
       "    </tr>\n",
       "    <tr>\n",
       "      <th>3</th>\n",
       "      <td>3</td>\n",
       "      <td>17623</td>\n",
       "      <td>48.282192</td>\n",
       "      <td>2</td>\n",
       "      <td>169</td>\n",
       "      <td>82.0</td>\n",
       "      <td>150</td>\n",
       "      <td>100</td>\n",
       "      <td>1</td>\n",
       "      <td>1</td>\n",
       "      <td>0</td>\n",
       "      <td>0</td>\n",
       "      <td>1</td>\n",
       "      <td>1</td>\n",
       "    </tr>\n",
       "    <tr>\n",
       "      <th>4</th>\n",
       "      <td>4</td>\n",
       "      <td>17474</td>\n",
       "      <td>47.873973</td>\n",
       "      <td>1</td>\n",
       "      <td>156</td>\n",
       "      <td>56.0</td>\n",
       "      <td>100</td>\n",
       "      <td>60</td>\n",
       "      <td>1</td>\n",
       "      <td>1</td>\n",
       "      <td>0</td>\n",
       "      <td>0</td>\n",
       "      <td>0</td>\n",
       "      <td>0</td>\n",
       "    </tr>\n",
       "  </tbody>\n",
       "</table>\n",
       "</div>"
      ],
      "text/plain": [
       "   id  age_days   age_year  gender  height  weight  ap_hi  ap_lo  cholesterol  \\\n",
       "0   0     18393  50.391781       2     168    62.0    110     80            1   \n",
       "1   1     20228  55.419178       1     156    85.0    140     90            3   \n",
       "2   2     18857  51.663014       1     165    64.0    130     70            3   \n",
       "3   3     17623  48.282192       2     169    82.0    150    100            1   \n",
       "4   4     17474  47.873973       1     156    56.0    100     60            1   \n",
       "\n",
       "   gluc  smoke  alco  active  cardio  \n",
       "0     1      0     0       1       0  \n",
       "1     1      0     0       1       1  \n",
       "2     1      0     0       0       1  \n",
       "3     1      0     0       1       1  \n",
       "4     1      0     0       0       0  "
      ]
     },
     "execution_count": 3,
     "metadata": {},
     "output_type": "execute_result"
    }
   ],
   "source": [
    "df.head()"
   ]
  },
  {
   "cell_type": "code",
   "execution_count": 4,
   "metadata": {},
   "outputs": [
    {
     "data": {
      "text/html": [
       "<div>\n",
       "<style scoped>\n",
       "    .dataframe tbody tr th:only-of-type {\n",
       "        vertical-align: middle;\n",
       "    }\n",
       "\n",
       "    .dataframe tbody tr th {\n",
       "        vertical-align: top;\n",
       "    }\n",
       "\n",
       "    .dataframe thead th {\n",
       "        text-align: right;\n",
       "    }\n",
       "</style>\n",
       "<table border=\"1\" class=\"dataframe\">\n",
       "  <thead>\n",
       "    <tr style=\"text-align: right;\">\n",
       "      <th></th>\n",
       "      <th>id</th>\n",
       "      <th>age_days</th>\n",
       "      <th>age_year</th>\n",
       "      <th>gender</th>\n",
       "      <th>height</th>\n",
       "      <th>weight</th>\n",
       "      <th>ap_hi</th>\n",
       "      <th>ap_lo</th>\n",
       "      <th>cholesterol</th>\n",
       "      <th>gluc</th>\n",
       "      <th>smoke</th>\n",
       "      <th>alco</th>\n",
       "      <th>active</th>\n",
       "      <th>cardio</th>\n",
       "    </tr>\n",
       "  </thead>\n",
       "  <tbody>\n",
       "    <tr>\n",
       "      <th>69995</th>\n",
       "      <td>99993</td>\n",
       "      <td>19240</td>\n",
       "      <td>52.712329</td>\n",
       "      <td>2</td>\n",
       "      <td>168</td>\n",
       "      <td>76.0</td>\n",
       "      <td>120</td>\n",
       "      <td>80</td>\n",
       "      <td>1</td>\n",
       "      <td>1</td>\n",
       "      <td>1</td>\n",
       "      <td>0</td>\n",
       "      <td>1</td>\n",
       "      <td>0</td>\n",
       "    </tr>\n",
       "    <tr>\n",
       "      <th>69996</th>\n",
       "      <td>99995</td>\n",
       "      <td>22601</td>\n",
       "      <td>61.920548</td>\n",
       "      <td>1</td>\n",
       "      <td>158</td>\n",
       "      <td>126.0</td>\n",
       "      <td>140</td>\n",
       "      <td>90</td>\n",
       "      <td>2</td>\n",
       "      <td>2</td>\n",
       "      <td>0</td>\n",
       "      <td>0</td>\n",
       "      <td>1</td>\n",
       "      <td>1</td>\n",
       "    </tr>\n",
       "    <tr>\n",
       "      <th>69997</th>\n",
       "      <td>99996</td>\n",
       "      <td>19066</td>\n",
       "      <td>52.235616</td>\n",
       "      <td>2</td>\n",
       "      <td>183</td>\n",
       "      <td>105.0</td>\n",
       "      <td>180</td>\n",
       "      <td>90</td>\n",
       "      <td>3</td>\n",
       "      <td>1</td>\n",
       "      <td>0</td>\n",
       "      <td>1</td>\n",
       "      <td>0</td>\n",
       "      <td>1</td>\n",
       "    </tr>\n",
       "    <tr>\n",
       "      <th>69998</th>\n",
       "      <td>99998</td>\n",
       "      <td>22431</td>\n",
       "      <td>61.454795</td>\n",
       "      <td>1</td>\n",
       "      <td>163</td>\n",
       "      <td>72.0</td>\n",
       "      <td>135</td>\n",
       "      <td>80</td>\n",
       "      <td>1</td>\n",
       "      <td>2</td>\n",
       "      <td>0</td>\n",
       "      <td>0</td>\n",
       "      <td>0</td>\n",
       "      <td>1</td>\n",
       "    </tr>\n",
       "    <tr>\n",
       "      <th>69999</th>\n",
       "      <td>99999</td>\n",
       "      <td>20540</td>\n",
       "      <td>56.273973</td>\n",
       "      <td>1</td>\n",
       "      <td>170</td>\n",
       "      <td>72.0</td>\n",
       "      <td>120</td>\n",
       "      <td>80</td>\n",
       "      <td>2</td>\n",
       "      <td>1</td>\n",
       "      <td>0</td>\n",
       "      <td>0</td>\n",
       "      <td>1</td>\n",
       "      <td>0</td>\n",
       "    </tr>\n",
       "  </tbody>\n",
       "</table>\n",
       "</div>"
      ],
      "text/plain": [
       "          id  age_days   age_year  gender  height  weight  ap_hi  ap_lo  \\\n",
       "69995  99993     19240  52.712329       2     168    76.0    120     80   \n",
       "69996  99995     22601  61.920548       1     158   126.0    140     90   \n",
       "69997  99996     19066  52.235616       2     183   105.0    180     90   \n",
       "69998  99998     22431  61.454795       1     163    72.0    135     80   \n",
       "69999  99999     20540  56.273973       1     170    72.0    120     80   \n",
       "\n",
       "       cholesterol  gluc  smoke  alco  active  cardio  \n",
       "69995            1     1      1     0       1       0  \n",
       "69996            2     2      0     0       1       1  \n",
       "69997            3     1      0     1       0       1  \n",
       "69998            1     2      0     0       0       1  \n",
       "69999            2     1      0     0       1       0  "
      ]
     },
     "execution_count": 4,
     "metadata": {},
     "output_type": "execute_result"
    }
   ],
   "source": [
    "df.tail()"
   ]
  },
  {
   "cell_type": "code",
   "execution_count": 5,
   "metadata": {},
   "outputs": [
    {
     "name": "stdout",
     "output_type": "stream",
     "text": [
      "<class 'pandas.core.frame.DataFrame'>\n",
      "RangeIndex: 70000 entries, 0 to 69999\n",
      "Data columns (total 14 columns):\n",
      " #   Column       Non-Null Count  Dtype  \n",
      "---  ------       --------------  -----  \n",
      " 0   id           70000 non-null  int64  \n",
      " 1   age_days     70000 non-null  int64  \n",
      " 2   age_year     70000 non-null  float64\n",
      " 3   gender       70000 non-null  int64  \n",
      " 4   height       70000 non-null  int64  \n",
      " 5   weight       70000 non-null  float64\n",
      " 6   ap_hi        70000 non-null  int64  \n",
      " 7   ap_lo        70000 non-null  int64  \n",
      " 8   cholesterol  70000 non-null  int64  \n",
      " 9   gluc         70000 non-null  int64  \n",
      " 10  smoke        70000 non-null  int64  \n",
      " 11  alco         70000 non-null  int64  \n",
      " 12  active       70000 non-null  int64  \n",
      " 13  cardio       70000 non-null  int64  \n",
      "dtypes: float64(2), int64(12)\n",
      "memory usage: 7.5 MB\n"
     ]
    }
   ],
   "source": [
    "df.info()"
   ]
  },
  {
   "cell_type": "code",
   "execution_count": 6,
   "metadata": {},
   "outputs": [
    {
     "data": {
      "text/plain": [
       "id             0\n",
       "age_days       0\n",
       "age_year       0\n",
       "gender         0\n",
       "height         0\n",
       "weight         0\n",
       "ap_hi          0\n",
       "ap_lo          0\n",
       "cholesterol    0\n",
       "gluc           0\n",
       "smoke          0\n",
       "alco           0\n",
       "active         0\n",
       "cardio         0\n",
       "dtype: int64"
      ]
     },
     "execution_count": 6,
     "metadata": {},
     "output_type": "execute_result"
    }
   ],
   "source": [
    "df.isna().sum()"
   ]
  },
  {
   "cell_type": "markdown",
   "metadata": {},
   "source": [
    "There are no null values!  \n",
    "And all the values are numeric."
   ]
  },
  {
   "cell_type": "markdown",
   "metadata": {},
   "source": [
    "## Preproces Data:"
   ]
  },
  {
   "cell_type": "markdown",
   "metadata": {},
   "source": [
    "### Clean the data"
   ]
  },
  {
   "cell_type": "markdown",
   "metadata": {},
   "source": [
    "#### We can see that there are some unnecessary columns, so we can throw them"
   ]
  },
  {
   "cell_type": "code",
   "execution_count": 7,
   "metadata": {},
   "outputs": [
    {
     "data": {
      "text/html": [
       "<div>\n",
       "<style scoped>\n",
       "    .dataframe tbody tr th:only-of-type {\n",
       "        vertical-align: middle;\n",
       "    }\n",
       "\n",
       "    .dataframe tbody tr th {\n",
       "        vertical-align: top;\n",
       "    }\n",
       "\n",
       "    .dataframe thead th {\n",
       "        text-align: right;\n",
       "    }\n",
       "</style>\n",
       "<table border=\"1\" class=\"dataframe\">\n",
       "  <thead>\n",
       "    <tr style=\"text-align: right;\">\n",
       "      <th></th>\n",
       "      <th>index</th>\n",
       "      <th>age_days</th>\n",
       "      <th>age_year</th>\n",
       "      <th>gender</th>\n",
       "      <th>height</th>\n",
       "      <th>weight</th>\n",
       "      <th>ap_hi</th>\n",
       "      <th>ap_lo</th>\n",
       "      <th>cholesterol</th>\n",
       "      <th>gluc</th>\n",
       "      <th>smoke</th>\n",
       "      <th>alco</th>\n",
       "      <th>active</th>\n",
       "      <th>cardio</th>\n",
       "    </tr>\n",
       "  </thead>\n",
       "  <tbody>\n",
       "    <tr>\n",
       "      <th>0</th>\n",
       "      <td>0</td>\n",
       "      <td>18393</td>\n",
       "      <td>50.0</td>\n",
       "      <td>2</td>\n",
       "      <td>168</td>\n",
       "      <td>62.0</td>\n",
       "      <td>110</td>\n",
       "      <td>80</td>\n",
       "      <td>1</td>\n",
       "      <td>1</td>\n",
       "      <td>0</td>\n",
       "      <td>0</td>\n",
       "      <td>1</td>\n",
       "      <td>0</td>\n",
       "    </tr>\n",
       "    <tr>\n",
       "      <th>1</th>\n",
       "      <td>1</td>\n",
       "      <td>20228</td>\n",
       "      <td>55.0</td>\n",
       "      <td>1</td>\n",
       "      <td>156</td>\n",
       "      <td>85.0</td>\n",
       "      <td>140</td>\n",
       "      <td>90</td>\n",
       "      <td>3</td>\n",
       "      <td>1</td>\n",
       "      <td>0</td>\n",
       "      <td>0</td>\n",
       "      <td>1</td>\n",
       "      <td>1</td>\n",
       "    </tr>\n",
       "    <tr>\n",
       "      <th>2</th>\n",
       "      <td>2</td>\n",
       "      <td>18857</td>\n",
       "      <td>52.0</td>\n",
       "      <td>1</td>\n",
       "      <td>165</td>\n",
       "      <td>64.0</td>\n",
       "      <td>130</td>\n",
       "      <td>70</td>\n",
       "      <td>3</td>\n",
       "      <td>1</td>\n",
       "      <td>0</td>\n",
       "      <td>0</td>\n",
       "      <td>0</td>\n",
       "      <td>1</td>\n",
       "    </tr>\n",
       "    <tr>\n",
       "      <th>3</th>\n",
       "      <td>3</td>\n",
       "      <td>17623</td>\n",
       "      <td>48.0</td>\n",
       "      <td>2</td>\n",
       "      <td>169</td>\n",
       "      <td>82.0</td>\n",
       "      <td>150</td>\n",
       "      <td>100</td>\n",
       "      <td>1</td>\n",
       "      <td>1</td>\n",
       "      <td>0</td>\n",
       "      <td>0</td>\n",
       "      <td>1</td>\n",
       "      <td>1</td>\n",
       "    </tr>\n",
       "    <tr>\n",
       "      <th>4</th>\n",
       "      <td>4</td>\n",
       "      <td>17474</td>\n",
       "      <td>48.0</td>\n",
       "      <td>1</td>\n",
       "      <td>156</td>\n",
       "      <td>56.0</td>\n",
       "      <td>100</td>\n",
       "      <td>60</td>\n",
       "      <td>1</td>\n",
       "      <td>1</td>\n",
       "      <td>0</td>\n",
       "      <td>0</td>\n",
       "      <td>0</td>\n",
       "      <td>0</td>\n",
       "    </tr>\n",
       "    <tr>\n",
       "      <th>...</th>\n",
       "      <td>...</td>\n",
       "      <td>...</td>\n",
       "      <td>...</td>\n",
       "      <td>...</td>\n",
       "      <td>...</td>\n",
       "      <td>...</td>\n",
       "      <td>...</td>\n",
       "      <td>...</td>\n",
       "      <td>...</td>\n",
       "      <td>...</td>\n",
       "      <td>...</td>\n",
       "      <td>...</td>\n",
       "      <td>...</td>\n",
       "      <td>...</td>\n",
       "    </tr>\n",
       "    <tr>\n",
       "      <th>68759</th>\n",
       "      <td>69995</td>\n",
       "      <td>19240</td>\n",
       "      <td>53.0</td>\n",
       "      <td>2</td>\n",
       "      <td>168</td>\n",
       "      <td>76.0</td>\n",
       "      <td>120</td>\n",
       "      <td>80</td>\n",
       "      <td>1</td>\n",
       "      <td>1</td>\n",
       "      <td>1</td>\n",
       "      <td>0</td>\n",
       "      <td>1</td>\n",
       "      <td>0</td>\n",
       "    </tr>\n",
       "    <tr>\n",
       "      <th>68760</th>\n",
       "      <td>69996</td>\n",
       "      <td>22601</td>\n",
       "      <td>62.0</td>\n",
       "      <td>1</td>\n",
       "      <td>158</td>\n",
       "      <td>126.0</td>\n",
       "      <td>140</td>\n",
       "      <td>90</td>\n",
       "      <td>2</td>\n",
       "      <td>2</td>\n",
       "      <td>0</td>\n",
       "      <td>0</td>\n",
       "      <td>1</td>\n",
       "      <td>1</td>\n",
       "    </tr>\n",
       "    <tr>\n",
       "      <th>68761</th>\n",
       "      <td>69997</td>\n",
       "      <td>19066</td>\n",
       "      <td>52.0</td>\n",
       "      <td>2</td>\n",
       "      <td>183</td>\n",
       "      <td>105.0</td>\n",
       "      <td>180</td>\n",
       "      <td>90</td>\n",
       "      <td>3</td>\n",
       "      <td>1</td>\n",
       "      <td>0</td>\n",
       "      <td>1</td>\n",
       "      <td>0</td>\n",
       "      <td>1</td>\n",
       "    </tr>\n",
       "    <tr>\n",
       "      <th>68762</th>\n",
       "      <td>69998</td>\n",
       "      <td>22431</td>\n",
       "      <td>61.0</td>\n",
       "      <td>1</td>\n",
       "      <td>163</td>\n",
       "      <td>72.0</td>\n",
       "      <td>135</td>\n",
       "      <td>80</td>\n",
       "      <td>1</td>\n",
       "      <td>2</td>\n",
       "      <td>0</td>\n",
       "      <td>0</td>\n",
       "      <td>0</td>\n",
       "      <td>1</td>\n",
       "    </tr>\n",
       "    <tr>\n",
       "      <th>68763</th>\n",
       "      <td>69999</td>\n",
       "      <td>20540</td>\n",
       "      <td>56.0</td>\n",
       "      <td>1</td>\n",
       "      <td>170</td>\n",
       "      <td>72.0</td>\n",
       "      <td>120</td>\n",
       "      <td>80</td>\n",
       "      <td>2</td>\n",
       "      <td>1</td>\n",
       "      <td>0</td>\n",
       "      <td>0</td>\n",
       "      <td>1</td>\n",
       "      <td>0</td>\n",
       "    </tr>\n",
       "  </tbody>\n",
       "</table>\n",
       "<p>68764 rows × 14 columns</p>\n",
       "</div>"
      ],
      "text/plain": [
       "       index  age_days  age_year  gender  height  weight  ap_hi  ap_lo  \\\n",
       "0          0     18393      50.0       2     168    62.0    110     80   \n",
       "1          1     20228      55.0       1     156    85.0    140     90   \n",
       "2          2     18857      52.0       1     165    64.0    130     70   \n",
       "3          3     17623      48.0       2     169    82.0    150    100   \n",
       "4          4     17474      48.0       1     156    56.0    100     60   \n",
       "...      ...       ...       ...     ...     ...     ...    ...    ...   \n",
       "68759  69995     19240      53.0       2     168    76.0    120     80   \n",
       "68760  69996     22601      62.0       1     158   126.0    140     90   \n",
       "68761  69997     19066      52.0       2     183   105.0    180     90   \n",
       "68762  69998     22431      61.0       1     163    72.0    135     80   \n",
       "68763  69999     20540      56.0       1     170    72.0    120     80   \n",
       "\n",
       "       cholesterol  gluc  smoke  alco  active  cardio  \n",
       "0                1     1      0     0       1       0  \n",
       "1                3     1      0     0       1       1  \n",
       "2                3     1      0     0       0       1  \n",
       "3                1     1      0     0       1       1  \n",
       "4                1     1      0     0       0       0  \n",
       "...            ...   ...    ...   ...     ...     ...  \n",
       "68759            1     1      1     0       1       0  \n",
       "68760            2     2      0     0       1       1  \n",
       "68761            3     1      0     1       0       1  \n",
       "68762            1     2      0     0       0       1  \n",
       "68763            2     1      0     0       1       0  \n",
       "\n",
       "[68764 rows x 14 columns]"
      ]
     },
     "execution_count": 7,
     "metadata": {},
     "output_type": "execute_result"
    }
   ],
   "source": [
    "# Drop id col\n",
    "df.drop(['id'], axis = 1, inplace= True)\n",
    "# Round float\n",
    "df['age_year'] = df['age_year'].round(0)\n",
    "df['weight'] = df['weight'].round(0)\n",
    "# There are some errors in the data ap_hi always biger then ap_lo \n",
    "# lats drop this errors:\n",
    "df = df[df['ap_lo']<df['ap_hi']]\n",
    "\n",
    "df.reset_index()"
   ]
  },
  {
   "cell_type": "code",
   "execution_count": 8,
   "metadata": {},
   "outputs": [
    {
     "data": {
      "text/html": [
       "<div>\n",
       "<style scoped>\n",
       "    .dataframe tbody tr th:only-of-type {\n",
       "        vertical-align: middle;\n",
       "    }\n",
       "\n",
       "    .dataframe tbody tr th {\n",
       "        vertical-align: top;\n",
       "    }\n",
       "\n",
       "    .dataframe thead th {\n",
       "        text-align: right;\n",
       "    }\n",
       "</style>\n",
       "<table border=\"1\" class=\"dataframe\">\n",
       "  <thead>\n",
       "    <tr style=\"text-align: right;\">\n",
       "      <th></th>\n",
       "      <th>age_days</th>\n",
       "      <th>age_year</th>\n",
       "      <th>gender</th>\n",
       "      <th>height</th>\n",
       "      <th>weight</th>\n",
       "      <th>ap_hi</th>\n",
       "      <th>ap_lo</th>\n",
       "      <th>cholesterol</th>\n",
       "      <th>gluc</th>\n",
       "      <th>smoke</th>\n",
       "      <th>alco</th>\n",
       "      <th>active</th>\n",
       "      <th>cardio</th>\n",
       "    </tr>\n",
       "  </thead>\n",
       "  <tbody>\n",
       "    <tr>\n",
       "      <th>0</th>\n",
       "      <td>18393</td>\n",
       "      <td>50.0</td>\n",
       "      <td>2</td>\n",
       "      <td>168</td>\n",
       "      <td>62.0</td>\n",
       "      <td>110</td>\n",
       "      <td>80</td>\n",
       "      <td>1</td>\n",
       "      <td>1</td>\n",
       "      <td>0</td>\n",
       "      <td>0</td>\n",
       "      <td>1</td>\n",
       "      <td>0</td>\n",
       "    </tr>\n",
       "    <tr>\n",
       "      <th>1</th>\n",
       "      <td>20228</td>\n",
       "      <td>55.0</td>\n",
       "      <td>1</td>\n",
       "      <td>156</td>\n",
       "      <td>85.0</td>\n",
       "      <td>140</td>\n",
       "      <td>90</td>\n",
       "      <td>3</td>\n",
       "      <td>1</td>\n",
       "      <td>0</td>\n",
       "      <td>0</td>\n",
       "      <td>1</td>\n",
       "      <td>1</td>\n",
       "    </tr>\n",
       "    <tr>\n",
       "      <th>2</th>\n",
       "      <td>18857</td>\n",
       "      <td>52.0</td>\n",
       "      <td>1</td>\n",
       "      <td>165</td>\n",
       "      <td>64.0</td>\n",
       "      <td>130</td>\n",
       "      <td>70</td>\n",
       "      <td>3</td>\n",
       "      <td>1</td>\n",
       "      <td>0</td>\n",
       "      <td>0</td>\n",
       "      <td>0</td>\n",
       "      <td>1</td>\n",
       "    </tr>\n",
       "    <tr>\n",
       "      <th>3</th>\n",
       "      <td>17623</td>\n",
       "      <td>48.0</td>\n",
       "      <td>2</td>\n",
       "      <td>169</td>\n",
       "      <td>82.0</td>\n",
       "      <td>150</td>\n",
       "      <td>100</td>\n",
       "      <td>1</td>\n",
       "      <td>1</td>\n",
       "      <td>0</td>\n",
       "      <td>0</td>\n",
       "      <td>1</td>\n",
       "      <td>1</td>\n",
       "    </tr>\n",
       "    <tr>\n",
       "      <th>4</th>\n",
       "      <td>17474</td>\n",
       "      <td>48.0</td>\n",
       "      <td>1</td>\n",
       "      <td>156</td>\n",
       "      <td>56.0</td>\n",
       "      <td>100</td>\n",
       "      <td>60</td>\n",
       "      <td>1</td>\n",
       "      <td>1</td>\n",
       "      <td>0</td>\n",
       "      <td>0</td>\n",
       "      <td>0</td>\n",
       "      <td>0</td>\n",
       "    </tr>\n",
       "    <tr>\n",
       "      <th>...</th>\n",
       "      <td>...</td>\n",
       "      <td>...</td>\n",
       "      <td>...</td>\n",
       "      <td>...</td>\n",
       "      <td>...</td>\n",
       "      <td>...</td>\n",
       "      <td>...</td>\n",
       "      <td>...</td>\n",
       "      <td>...</td>\n",
       "      <td>...</td>\n",
       "      <td>...</td>\n",
       "      <td>...</td>\n",
       "      <td>...</td>\n",
       "    </tr>\n",
       "    <tr>\n",
       "      <th>69995</th>\n",
       "      <td>19240</td>\n",
       "      <td>53.0</td>\n",
       "      <td>2</td>\n",
       "      <td>168</td>\n",
       "      <td>76.0</td>\n",
       "      <td>120</td>\n",
       "      <td>80</td>\n",
       "      <td>1</td>\n",
       "      <td>1</td>\n",
       "      <td>1</td>\n",
       "      <td>0</td>\n",
       "      <td>1</td>\n",
       "      <td>0</td>\n",
       "    </tr>\n",
       "    <tr>\n",
       "      <th>69996</th>\n",
       "      <td>22601</td>\n",
       "      <td>62.0</td>\n",
       "      <td>1</td>\n",
       "      <td>158</td>\n",
       "      <td>126.0</td>\n",
       "      <td>140</td>\n",
       "      <td>90</td>\n",
       "      <td>2</td>\n",
       "      <td>2</td>\n",
       "      <td>0</td>\n",
       "      <td>0</td>\n",
       "      <td>1</td>\n",
       "      <td>1</td>\n",
       "    </tr>\n",
       "    <tr>\n",
       "      <th>69997</th>\n",
       "      <td>19066</td>\n",
       "      <td>52.0</td>\n",
       "      <td>2</td>\n",
       "      <td>183</td>\n",
       "      <td>105.0</td>\n",
       "      <td>180</td>\n",
       "      <td>90</td>\n",
       "      <td>3</td>\n",
       "      <td>1</td>\n",
       "      <td>0</td>\n",
       "      <td>1</td>\n",
       "      <td>0</td>\n",
       "      <td>1</td>\n",
       "    </tr>\n",
       "    <tr>\n",
       "      <th>69998</th>\n",
       "      <td>22431</td>\n",
       "      <td>61.0</td>\n",
       "      <td>1</td>\n",
       "      <td>163</td>\n",
       "      <td>72.0</td>\n",
       "      <td>135</td>\n",
       "      <td>80</td>\n",
       "      <td>1</td>\n",
       "      <td>2</td>\n",
       "      <td>0</td>\n",
       "      <td>0</td>\n",
       "      <td>0</td>\n",
       "      <td>1</td>\n",
       "    </tr>\n",
       "    <tr>\n",
       "      <th>69999</th>\n",
       "      <td>20540</td>\n",
       "      <td>56.0</td>\n",
       "      <td>1</td>\n",
       "      <td>170</td>\n",
       "      <td>72.0</td>\n",
       "      <td>120</td>\n",
       "      <td>80</td>\n",
       "      <td>2</td>\n",
       "      <td>1</td>\n",
       "      <td>0</td>\n",
       "      <td>0</td>\n",
       "      <td>1</td>\n",
       "      <td>0</td>\n",
       "    </tr>\n",
       "  </tbody>\n",
       "</table>\n",
       "<p>68764 rows × 13 columns</p>\n",
       "</div>"
      ],
      "text/plain": [
       "       age_days  age_year  gender  height  weight  ap_hi  ap_lo  cholesterol  \\\n",
       "0         18393      50.0       2     168    62.0    110     80            1   \n",
       "1         20228      55.0       1     156    85.0    140     90            3   \n",
       "2         18857      52.0       1     165    64.0    130     70            3   \n",
       "3         17623      48.0       2     169    82.0    150    100            1   \n",
       "4         17474      48.0       1     156    56.0    100     60            1   \n",
       "...         ...       ...     ...     ...     ...    ...    ...          ...   \n",
       "69995     19240      53.0       2     168    76.0    120     80            1   \n",
       "69996     22601      62.0       1     158   126.0    140     90            2   \n",
       "69997     19066      52.0       2     183   105.0    180     90            3   \n",
       "69998     22431      61.0       1     163    72.0    135     80            1   \n",
       "69999     20540      56.0       1     170    72.0    120     80            2   \n",
       "\n",
       "       gluc  smoke  alco  active  cardio  \n",
       "0         1      0     0       1       0  \n",
       "1         1      0     0       1       1  \n",
       "2         1      0     0       0       1  \n",
       "3         1      0     0       1       1  \n",
       "4         1      0     0       0       0  \n",
       "...     ...    ...   ...     ...     ...  \n",
       "69995     1      1     0       1       0  \n",
       "69996     2      0     0       1       1  \n",
       "69997     1      0     1       0       1  \n",
       "69998     2      0     0       0       1  \n",
       "69999     1      0     0       1       0  \n",
       "\n",
       "[68764 rows x 13 columns]"
      ]
     },
     "execution_count": 8,
     "metadata": {},
     "output_type": "execute_result"
    }
   ],
   "source": [
    "df"
   ]
  },
  {
   "cell_type": "markdown",
   "metadata": {},
   "source": [
    "### Add features"
   ]
  },
  {
   "cell_type": "markdown",
   "metadata": {},
   "source": [
    "#### BMI - \n",
    "```\"BMI is a convenient rule of thumb used to broadly categorize a person as underweight, normal weight, overweight, or obese based on tissue mass (muscle, fat, and bone) and height.\" - wikipedia```"
   ]
  },
  {
   "cell_type": "markdown",
   "metadata": {},
   "source": [
    "<a href=\"https://ibb.co/t3K5F8Q\"><img src=\"https://i.ibb.co/V39852J/BMI.png\" alt=\"BMI\" border=\"0\"></a>"
   ]
  },
  {
   "cell_type": "code",
   "execution_count": 9,
   "metadata": {},
   "outputs": [],
   "source": [
    "# add BMI:\n",
    "df['BMI'] = (df[\"weight\"] / (df[\"height\"]/100)**2).astype(np.int)"
   ]
  },
  {
   "cell_type": "markdown",
   "metadata": {},
   "source": [
    "#### MAP - \n",
    "```\"The mean arterial pressure (MAP) is an average blood pressure in an individual during a single cardiac cycle.\" - wikipedia```"
   ]
  },
  {
   "cell_type": "markdown",
   "metadata": {},
   "source": [
    "<a href=\"https://ibb.co/ZcfFBmF\"><img src=\"https://i.ibb.co/CVwYb2Y/arterial-pressure-pulse-profile.png\" alt=\"arterial-pressure-pulse-profile\" border=\"0\"></a>"
   ]
  },
  {
   "cell_type": "code",
   "execution_count": 10,
   "metadata": {},
   "outputs": [],
   "source": [
    "# add MAP:\n",
    "df['MAP'] = (((df[\"ap_lo\"]*2) + df[\"ap_hi\"])/3).round(0)"
   ]
  },
  {
   "cell_type": "markdown",
   "metadata": {},
   "source": [
    "Our new dataframe:"
   ]
  },
  {
   "cell_type": "code",
   "execution_count": 11,
   "metadata": {
    "scrolled": true
   },
   "outputs": [
    {
     "data": {
      "text/html": [
       "<div>\n",
       "<style scoped>\n",
       "    .dataframe tbody tr th:only-of-type {\n",
       "        vertical-align: middle;\n",
       "    }\n",
       "\n",
       "    .dataframe tbody tr th {\n",
       "        vertical-align: top;\n",
       "    }\n",
       "\n",
       "    .dataframe thead th {\n",
       "        text-align: right;\n",
       "    }\n",
       "</style>\n",
       "<table border=\"1\" class=\"dataframe\">\n",
       "  <thead>\n",
       "    <tr style=\"text-align: right;\">\n",
       "      <th></th>\n",
       "      <th>age_days</th>\n",
       "      <th>age_year</th>\n",
       "      <th>gender</th>\n",
       "      <th>height</th>\n",
       "      <th>weight</th>\n",
       "      <th>ap_hi</th>\n",
       "      <th>ap_lo</th>\n",
       "      <th>cholesterol</th>\n",
       "      <th>gluc</th>\n",
       "      <th>smoke</th>\n",
       "      <th>alco</th>\n",
       "      <th>active</th>\n",
       "      <th>cardio</th>\n",
       "      <th>BMI</th>\n",
       "      <th>MAP</th>\n",
       "    </tr>\n",
       "  </thead>\n",
       "  <tbody>\n",
       "    <tr>\n",
       "      <th>0</th>\n",
       "      <td>18393</td>\n",
       "      <td>50.0</td>\n",
       "      <td>2</td>\n",
       "      <td>168</td>\n",
       "      <td>62.0</td>\n",
       "      <td>110</td>\n",
       "      <td>80</td>\n",
       "      <td>1</td>\n",
       "      <td>1</td>\n",
       "      <td>0</td>\n",
       "      <td>0</td>\n",
       "      <td>1</td>\n",
       "      <td>0</td>\n",
       "      <td>21</td>\n",
       "      <td>90.0</td>\n",
       "    </tr>\n",
       "    <tr>\n",
       "      <th>1</th>\n",
       "      <td>20228</td>\n",
       "      <td>55.0</td>\n",
       "      <td>1</td>\n",
       "      <td>156</td>\n",
       "      <td>85.0</td>\n",
       "      <td>140</td>\n",
       "      <td>90</td>\n",
       "      <td>3</td>\n",
       "      <td>1</td>\n",
       "      <td>0</td>\n",
       "      <td>0</td>\n",
       "      <td>1</td>\n",
       "      <td>1</td>\n",
       "      <td>34</td>\n",
       "      <td>107.0</td>\n",
       "    </tr>\n",
       "    <tr>\n",
       "      <th>2</th>\n",
       "      <td>18857</td>\n",
       "      <td>52.0</td>\n",
       "      <td>1</td>\n",
       "      <td>165</td>\n",
       "      <td>64.0</td>\n",
       "      <td>130</td>\n",
       "      <td>70</td>\n",
       "      <td>3</td>\n",
       "      <td>1</td>\n",
       "      <td>0</td>\n",
       "      <td>0</td>\n",
       "      <td>0</td>\n",
       "      <td>1</td>\n",
       "      <td>23</td>\n",
       "      <td>90.0</td>\n",
       "    </tr>\n",
       "    <tr>\n",
       "      <th>3</th>\n",
       "      <td>17623</td>\n",
       "      <td>48.0</td>\n",
       "      <td>2</td>\n",
       "      <td>169</td>\n",
       "      <td>82.0</td>\n",
       "      <td>150</td>\n",
       "      <td>100</td>\n",
       "      <td>1</td>\n",
       "      <td>1</td>\n",
       "      <td>0</td>\n",
       "      <td>0</td>\n",
       "      <td>1</td>\n",
       "      <td>1</td>\n",
       "      <td>28</td>\n",
       "      <td>117.0</td>\n",
       "    </tr>\n",
       "    <tr>\n",
       "      <th>4</th>\n",
       "      <td>17474</td>\n",
       "      <td>48.0</td>\n",
       "      <td>1</td>\n",
       "      <td>156</td>\n",
       "      <td>56.0</td>\n",
       "      <td>100</td>\n",
       "      <td>60</td>\n",
       "      <td>1</td>\n",
       "      <td>1</td>\n",
       "      <td>0</td>\n",
       "      <td>0</td>\n",
       "      <td>0</td>\n",
       "      <td>0</td>\n",
       "      <td>23</td>\n",
       "      <td>73.0</td>\n",
       "    </tr>\n",
       "  </tbody>\n",
       "</table>\n",
       "</div>"
      ],
      "text/plain": [
       "   age_days  age_year  gender  height  weight  ap_hi  ap_lo  cholesterol  \\\n",
       "0     18393      50.0       2     168    62.0    110     80            1   \n",
       "1     20228      55.0       1     156    85.0    140     90            3   \n",
       "2     18857      52.0       1     165    64.0    130     70            3   \n",
       "3     17623      48.0       2     169    82.0    150    100            1   \n",
       "4     17474      48.0       1     156    56.0    100     60            1   \n",
       "\n",
       "   gluc  smoke  alco  active  cardio  BMI    MAP  \n",
       "0     1      0     0       1       0   21   90.0  \n",
       "1     1      0     0       1       1   34  107.0  \n",
       "2     1      0     0       0       1   23   90.0  \n",
       "3     1      0     0       1       1   28  117.0  \n",
       "4     1      0     0       0       0   23   73.0  "
      ]
     },
     "execution_count": 11,
     "metadata": {},
     "output_type": "execute_result"
    }
   ],
   "source": [
    "df.head()"
   ]
  },
  {
   "cell_type": "markdown",
   "metadata": {},
   "source": [
    "## Visualization:"
   ]
  },
  {
   "cell_type": "markdown",
   "metadata": {},
   "source": [
    "### Lets see how the data split between the class"
   ]
  },
  {
   "cell_type": "code",
   "execution_count": 12,
   "metadata": {},
   "outputs": [
    {
     "data": {
      "text/plain": [
       "<matplotlib.axes._subplots.AxesSubplot at 0x7fb335ae9370>"
      ]
     },
     "execution_count": 12,
     "metadata": {},
     "output_type": "execute_result"
    },
    {
     "data": {
      "image/png": "[encoded data removed]",
      "text/plain": [
       "<Figure size 432x288 with 1 Axes>"
      ]
     },
     "metadata": {
      "needs_background": "light"
     },
     "output_type": "display_data"
    }
   ],
   "source": [
    "sns.countplot(df['cardio']) # count the number of patients with or witout cardio."
   ]
  },
  {
   "cell_type": "markdown",
   "metadata": {},
   "source": [
    "### The number of patients is divided almost equally!"
   ]
  },
  {
   "cell_type": "markdown",
   "metadata": {},
   "source": [
    "### Now lats correlation between features:"
   ]
  },
  {
   "cell_type": "code",
   "execution_count": 13,
   "metadata": {},
   "outputs": [
    {
     "data": {
      "text/plain": [
       "<matplotlib.axes._subplots.AxesSubplot at 0x7fb3381c95b0>"
      ]
     },
     "execution_count": 13,
     "metadata": {},
     "output_type": "execute_result"
    },
    {
     "data": {
      "image/png": "[encoded data removed]",
      "text/plain": [
       "<Figure size 1440x720 with 2 Axes>"
      ]
     },
     "metadata": {
      "needs_background": "light"
     },
     "output_type": "display_data"
    }
   ],
   "source": [
    "plt.figure(figsize=(20,10))\n",
    "sns.heatmap(df.corr(),annot=True)"
   ]
  },
  {
   "cell_type": "markdown",
   "metadata": {},
   "source": [
    "### At first glance we can't find strong correlation between features"
   ]
  },
  {
   "cell_type": "markdown",
   "metadata": {},
   "source": [
    "## Lets test every featur by itself:"
   ]
  },
  {
   "cell_type": "code",
   "execution_count": 14,
   "metadata": {},
   "outputs": [
    {
     "data": {
      "text/plain": [
       "<matplotlib.axes._subplots.AxesSubplot at 0x7fb339cee5b0>"
      ]
     },
     "execution_count": 14,
     "metadata": {},
     "output_type": "execute_result"
    },
    {
     "data": {
      "image/png": "[encoded data removed]",
      "text/plain": [
       "<Figure size 1080x360 with 6 Axes>"
      ]
     },
     "metadata": {
      "needs_background": "light"
     },
     "output_type": "display_data"
    }
   ],
   "source": [
    "f, axes = plt.subplots(1, 6, figsize=(15, 5), sharex=False,sharey=True)\n",
    "sns.countplot(x='gluc',data=df,hue='cardio' , ax=axes[0])\n",
    "sns.countplot(x='gender',data=df,hue='cardio', ax=axes[1] )\n",
    "sns.countplot(x='alco',data=df,hue='cardio' , ax=axes[2])\n",
    "sns.countplot(x='smoke',data=df,hue='cardio' , ax=axes[3])\n",
    "sns.countplot(x='cholesterol',data=df,hue='cardio', ax=axes[4])\n",
    "sns.countplot(x='active',data=df,hue='cardio' , ax=axes[5])\n"
   ]
  },
  {
   "cell_type": "markdown",
   "metadata": {},
   "source": [
    "We can see that our intuition is pretty good apart from the smoking and alcohol that behave differently than expected."
   ]
  },
  {
   "cell_type": "code",
   "execution_count": 15,
   "metadata": {
    "scrolled": false
   },
   "outputs": [
    {
     "data": {
      "image/png": "[encoded data removed]",
      "text/plain": [
       "<Figure size 1224x720 with 1 Axes>"
      ]
     },
     "metadata": {
      "needs_background": "light"
     },
     "output_type": "display_data"
    }
   ],
   "source": [
    "plt.figure(figsize=(17,10))\n",
    "sns.countplot(data = df[(df['BMI'] < 45) & (df['BMI'] > 13) ], x='BMI', hue='cardio')\n",
    "plt.show()"
   ]
  },
  {
   "cell_type": "markdown",
   "metadata": {},
   "source": [
    " It can be seen that as the BMI increases the number of cardio increases"
   ]
  },
  {
   "cell_type": "code",
   "execution_count": 16,
   "metadata": {},
   "outputs": [
    {
     "data": {
      "image/png": "[encoded data removed]",
      "text/plain": [
       "<Figure size 1224x720 with 1 Axes>"
      ]
     },
     "metadata": {
      "needs_background": "light"
     },
     "output_type": "display_data"
    }
   ],
   "source": [
    "plt.figure(figsize=(17,10))\n",
    "sns.countplot(data = df[(df['cardio'] == 1)], x='age_year' ,hue='gender')\n",
    "plt.show()"
   ]
  },
  {
   "cell_type": "markdown",
   "metadata": {},
   "source": [
    "It can be seen that as age increases there are more cardio disease. and men are sicker than women and at an earlier age."
   ]
  },
  {
   "cell_type": "markdown",
   "metadata": {},
   "source": [
    "Now we can drop 'age_year' because it's less specific from 'age_days'"
   ]
  },
  {
   "cell_type": "code",
   "execution_count": 17,
   "metadata": {},
   "outputs": [],
   "source": [
    "df.drop(['age_year'], axis = 1, inplace= True)"
   ]
  },
  {
   "cell_type": "markdown",
   "metadata": {},
   "source": [
    "## Models:"
   ]
  },
  {
   "cell_type": "code",
   "execution_count": 18,
   "metadata": {},
   "outputs": [],
   "source": [
    "# Split Data\n",
    "y = df['cardio']\n",
    "x = df.drop(['cardio'], axis =1)\n",
    "\n",
    "#split x and y to trin and test\n",
    "x_train , x_test , y_train , y_test = split(x,y ,train_size = 0.8 , shuffle = True , random_state = 1)\n",
    "\n",
    "#scal data\n",
    "scal_x_train = pd.DataFrame(StandardScaler().fit(x_train).transform(x_train),columns=x.columns)\n",
    "scal_x_test = pd.DataFrame(StandardScaler().fit(x_train).transform(x_test),columns=x.columns)\n",
    "scal_x = pd.DataFrame(StandardScaler().fit(x).transform(x),columns=x.columns)"
   ]
  },
  {
   "cell_type": "markdown",
   "metadata": {},
   "source": [
    "## searching for optimal value of K for knn, with Cross validation score (I will explain later what Cross validation is):"
   ]
  },
  {
   "cell_type": "code",
   "execution_count": 19,
   "metadata": {},
   "outputs": [],
   "source": [
    "# k_range = [10,50,100,200]\n",
    "# k_scores = []\n",
    "# for k in k_range:\n",
    "#     knn = KNeighborsClassifier(n_neighbors=k)\n",
    "#     Optional_K = cross_val_score(knn, scal_x, y, cv=10)\n",
    "#     k_scores.append(Optional_K.mean())\n",
    "#     print('.')\n",
    "# print(k_scores)"
   ]
  },
  {
   "cell_type": "code",
   "execution_count": 20,
   "metadata": {},
   "outputs": [],
   "source": [
    "# plt.plot(k_range, k_scores)\n",
    "# plt.xlabel('K for knn')\n",
    "# plt.ylabel('Cross validated score')"
   ]
  },
  {
   "cell_type": "markdown",
   "metadata": {},
   "source": [
    "K = 100 is optimal!"
   ]
  },
  {
   "cell_type": "markdown",
   "metadata": {},
   "source": [
    "## Modeling: "
   ]
  },
  {
   "cell_type": "code",
   "execution_count": 21,
   "metadata": {},
   "outputs": [],
   "source": [
    "KNN = KNeighborsClassifier(n_neighbors=100).fit(scal_x_train, y_train)\n",
    "LR = LogisticRegression().fit(scal_x_train, y_train)\n",
    "Dummy = DummyClassifier(strategy='most_frequent').fit(scal_x_train, y_train)"
   ]
  },
  {
   "cell_type": "markdown",
   "metadata": {},
   "source": [
    "### Lats test our models:"
   ]
  },
  {
   "cell_type": "code",
   "execution_count": 22,
   "metadata": {},
   "outputs": [
    {
     "name": "stdout",
     "output_type": "stream",
     "text": [
      "KNeighborsClassifier mean accuracy: 70.41%\n",
      "LogisticRegression mean accuracy: 71.95%\n",
      "DummyClassifier mean accuracy: 50.83%\n"
     ]
    }
   ],
   "source": [
    "# Simpel score test:\n",
    "print(\"KNeighborsClassifier mean accuracy: {:.2f}%\".format(KNN.score(scal_x_test, y_test)*100))\n",
    "print(\"LogisticRegression mean accuracy: {:.2f}%\".format(LR.score(scal_x_test, y_test)*100))\n",
    "print(\"DummyClassifier mean accuracy: {:.2f}%\".format(Dummy.score(scal_x_test, y_test)*100))\n"
   ]
  },
  {
   "cell_type": "code",
   "execution_count": 23,
   "metadata": {},
   "outputs": [],
   "source": [
    "# List of all model and there names:\n",
    "model = [(Dummy, \"DummyClassifier\"), (LR, \"LogisticRegression\"),(KNN, \"KNeighborsClassifier\")]"
   ]
  },
  {
   "cell_type": "markdown",
   "metadata": {},
   "source": [
    "### Cross validation score:"
   ]
  },
  {
   "cell_type": "markdown",
   "metadata": {},
   "source": [
    "<a href=\"https://ibb.co/TLZb4Lm\"><img src=\"https://i.ibb.co/Zm3YBmW/2021-03-14-18-22-49.png\" alt=\"2021-03-14-18-22-49\" border=\"0\"></a>"
   ]
  },
  {
   "cell_type": "markdown",
   "metadata": {},
   "source": [
    "Taken from: ```https://github.com/justmarkham/scikit-learn-videos/blob/master/07_cross_validation.ipynb```"
   ]
  },
  {
   "cell_type": "code",
   "execution_count": 24,
   "metadata": {},
   "outputs": [],
   "source": [
    "# for i,j in model:\n",
    "#     cv_score = cross_val_score(i, scal_x, y, cv=10)\n",
    "#     print(j, \"cross val score is:\", cv_score.mean())"
   ]
  },
  {
   "cell_type": "markdown",
   "metadata": {},
   "source": [
    "### classification report and confusion matrix:"
   ]
  },
  {
   "attachments": {
    "image.png": {
     "image/png": "[encoded data removed]"
    }
   },
   "cell_type": "markdown",
   "metadata": {},
   "source": [
    "![image.png](attachment:image.png)"
   ]
  },
  {
   "cell_type": "code",
   "execution_count": 25,
   "metadata": {},
   "outputs": [],
   "source": [
    "# for i , j in model:\n",
    "#     train_pred = i.predict(scal_x_train)\n",
    "#     y_pred = i.predict(scal_x_test)\n",
    "\n",
    "    \n",
    "#     print( j,' Classification Report')\n",
    "#     print(classification_report(y_test, y_pred))\n",
    "\n",
    "#     cm = confusion_matrix(y_test, y_pred)\n",
    "#     plt.subplots()\n",
    "#     sns.heatmap(cm,fmt=\".0f\", annot=True)\n",
    "#     plt.xlabel(\"Predict\")\n",
    "#     plt.ylabel(\"Test\")\n",
    "#     plt.show()"
   ]
  },
  {
   "cell_type": "markdown",
   "metadata": {},
   "source": [
    "## ROC curve and AUC:"
   ]
  },
  {
   "cell_type": "markdown",
   "metadata": {},
   "source": [
    "### The ROC curve is created by plotting the true positive rate (TPR) against the false positive rate (FPR) at various threshold settings. \n",
    "### The larger the area under the curve (AUC) the better!"
   ]
  },
  {
   "cell_type": "markdown",
   "metadata": {},
   "source": [
    "$$\\text{TPR} = \\frac{TP}{TP + FN}$$  \n",
    "$$\\text{FPR} = \\frac{FP}{TN + FP}$$  \n",
    "$$\\mathrm {PPV} ={\\frac {\\mathrm {TP} }{\\mathrm {TP} +\\mathrm {FP} }}$$"
   ]
  },
  {
   "cell_type": "code",
   "execution_count": 26,
   "metadata": {},
   "outputs": [
    {
     "data": {
      "text/plain": [
       "Text(0, 0.5, 'True Positive Rate')"
      ]
     },
     "execution_count": 26,
     "metadata": {},
     "output_type": "execute_result"
    },
    {
     "data": {
      "image/png": "[encoded data removed]",
      "text/plain": [
       "<Figure size 432x288 with 1 Axes>"
      ]
     },
     "metadata": {
      "needs_background": "light"
     },
     "output_type": "display_data"
    }
   ],
   "source": [
    "#ROC curves\n",
    "plot = plt.subplot(title = 'ROC')\n",
    "plot_roc_curve(Dummy,scal_x_test, y_test, ax = plot, name= 'DummyClassifier')\n",
    "plot_roc_curve(LR,scal_x_test, y_test, ax = plot, name= 'LogisticRegression')\n",
    "plot_roc_curve(KNN,scal_x_test, y_test, ax = plot, name= 'KNeighborsClassifier')\n",
    "plt.xlabel('False Positive Rate')\n",
    "plt.ylabel('True Positive Rate')\n"
   ]
  },
  {
   "cell_type": "markdown",
   "metadata": {},
   "source": [
    "## Logistic Regression model is the best for this case"
   ]
  },
  {
   "cell_type": "markdown",
   "metadata": {},
   "source": []
  },
  {
   "cell_type": "markdown",
   "metadata": {},
   "source": [
    "# improving the model:"
   ]
  },
  {
   "cell_type": "markdown",
   "metadata": {},
   "source": [
    "### we will try to improv by using Decision Tree and Ada Boost"
   ]
  },
  {
   "cell_type": "code",
   "execution_count": 130,
   "metadata": {},
   "outputs": [
    {
     "name": "stdout",
     "output_type": "stream",
     "text": [
      "DecisionTreeClassifier mean accuracy: 70.90%\n"
     ]
    }
   ],
   "source": [
    "DT = DecisionTreeClassifier(max_depth=2)\n",
    "DT.fit(scal_x_train, y_train)\n",
    "print(\"DecisionTreeClassifier mean accuracy: {:.2f}%\".format(DT.score(scal_x_test, y_test)*100))"
   ]
  },
  {
   "cell_type": "markdown",
   "metadata": {},
   "source": [
    "#### Note that DecisionTree alone does not improve the result\n",
    "#### But with AdaBoost we can improve the mean accuracy by 1.3% !"
   ]
  },
  {
   "cell_type": "code",
   "execution_count": 132,
   "metadata": {},
   "outputs": [
    {
     "name": "stdout",
     "output_type": "stream",
     "text": [
      "AdaBoostClassifier mean accuracy: 73.26%\n"
     ]
    }
   ],
   "source": [
    "Ada = AdaBoostClassifier(\n",
    "    DT,n_estimators=220,algorithm=\"SAMME.R\",learning_rate=0.37\n",
    "    )\n",
    "Ada.fit(scal_x_train, y_train)\n",
    "print(\"AdaBoostClassifier mean accuracy: {:.2f}%\".format(Ada.score(scal_x_test, y_test)*100))"
   ]
  },
  {
   "cell_type": "markdown",
   "metadata": {},
   "source": [
    "### Now i will try to reduce dimensionality by hand:"
   ]
  },
  {
   "cell_type": "code",
   "execution_count": 32,
   "metadata": {},
   "outputs": [
    {
     "name": "stdout",
     "output_type": "stream",
     "text": [
      "age_days 0.3174777086525727\n",
      "gender 0.012575652360627238\n",
      "height 0.1000510692726182\n",
      "weight 0.11634966666333452\n",
      "ap_hi 0.13073949476892646\n",
      "ap_lo 0.04315575943556106\n",
      "cholesterol 0.05634069838975731\n",
      "gluc 0.02283089502656736\n",
      "smoke 0.008248823040042838\n",
      "alco 0.008816535945941084\n",
      "active 0.011790519886686916\n",
      "BMI 0.08163119646932648\n",
      "MAP 0.08999198008803769\n"
     ]
    }
   ],
   "source": [
    "# Chacking the importance for etch feature\n",
    "for n,s in zip(x.columns, Ada.feature_importances_):\n",
    "    print(n, s)"
   ]
  },
  {
   "cell_type": "markdown",
   "metadata": {},
   "source": [
    "We can see that some features is under 0.05 so we will drop tham:"
   ]
  },
  {
   "cell_type": "code",
   "execution_count": 51,
   "metadata": {},
   "outputs": [
    {
     "data": {
      "text/html": [
       "<div>\n",
       "<style scoped>\n",
       "    .dataframe tbody tr th:only-of-type {\n",
       "        vertical-align: middle;\n",
       "    }\n",
       "\n",
       "    .dataframe tbody tr th {\n",
       "        vertical-align: top;\n",
       "    }\n",
       "\n",
       "    .dataframe thead th {\n",
       "        text-align: right;\n",
       "    }\n",
       "</style>\n",
       "<table border=\"1\" class=\"dataframe\">\n",
       "  <thead>\n",
       "    <tr style=\"text-align: right;\">\n",
       "      <th></th>\n",
       "      <th>age_days</th>\n",
       "      <th>height</th>\n",
       "      <th>weight</th>\n",
       "      <th>ap_hi</th>\n",
       "      <th>cholesterol</th>\n",
       "      <th>cardio</th>\n",
       "      <th>BMI</th>\n",
       "      <th>MAP</th>\n",
       "    </tr>\n",
       "  </thead>\n",
       "  <tbody>\n",
       "    <tr>\n",
       "      <th>0</th>\n",
       "      <td>18393</td>\n",
       "      <td>168</td>\n",
       "      <td>62.0</td>\n",
       "      <td>110</td>\n",
       "      <td>1</td>\n",
       "      <td>0</td>\n",
       "      <td>21</td>\n",
       "      <td>90.0</td>\n",
       "    </tr>\n",
       "    <tr>\n",
       "      <th>1</th>\n",
       "      <td>20228</td>\n",
       "      <td>156</td>\n",
       "      <td>85.0</td>\n",
       "      <td>140</td>\n",
       "      <td>3</td>\n",
       "      <td>1</td>\n",
       "      <td>34</td>\n",
       "      <td>107.0</td>\n",
       "    </tr>\n",
       "    <tr>\n",
       "      <th>2</th>\n",
       "      <td>18857</td>\n",
       "      <td>165</td>\n",
       "      <td>64.0</td>\n",
       "      <td>130</td>\n",
       "      <td>3</td>\n",
       "      <td>1</td>\n",
       "      <td>23</td>\n",
       "      <td>90.0</td>\n",
       "    </tr>\n",
       "    <tr>\n",
       "      <th>3</th>\n",
       "      <td>17623</td>\n",
       "      <td>169</td>\n",
       "      <td>82.0</td>\n",
       "      <td>150</td>\n",
       "      <td>1</td>\n",
       "      <td>1</td>\n",
       "      <td>28</td>\n",
       "      <td>117.0</td>\n",
       "    </tr>\n",
       "    <tr>\n",
       "      <th>4</th>\n",
       "      <td>17474</td>\n",
       "      <td>156</td>\n",
       "      <td>56.0</td>\n",
       "      <td>100</td>\n",
       "      <td>1</td>\n",
       "      <td>0</td>\n",
       "      <td>23</td>\n",
       "      <td>73.0</td>\n",
       "    </tr>\n",
       "    <tr>\n",
       "      <th>...</th>\n",
       "      <td>...</td>\n",
       "      <td>...</td>\n",
       "      <td>...</td>\n",
       "      <td>...</td>\n",
       "      <td>...</td>\n",
       "      <td>...</td>\n",
       "      <td>...</td>\n",
       "      <td>...</td>\n",
       "    </tr>\n",
       "    <tr>\n",
       "      <th>69995</th>\n",
       "      <td>19240</td>\n",
       "      <td>168</td>\n",
       "      <td>76.0</td>\n",
       "      <td>120</td>\n",
       "      <td>1</td>\n",
       "      <td>0</td>\n",
       "      <td>26</td>\n",
       "      <td>93.0</td>\n",
       "    </tr>\n",
       "    <tr>\n",
       "      <th>69996</th>\n",
       "      <td>22601</td>\n",
       "      <td>158</td>\n",
       "      <td>126.0</td>\n",
       "      <td>140</td>\n",
       "      <td>2</td>\n",
       "      <td>1</td>\n",
       "      <td>50</td>\n",
       "      <td>107.0</td>\n",
       "    </tr>\n",
       "    <tr>\n",
       "      <th>69997</th>\n",
       "      <td>19066</td>\n",
       "      <td>183</td>\n",
       "      <td>105.0</td>\n",
       "      <td>180</td>\n",
       "      <td>3</td>\n",
       "      <td>1</td>\n",
       "      <td>31</td>\n",
       "      <td>120.0</td>\n",
       "    </tr>\n",
       "    <tr>\n",
       "      <th>69998</th>\n",
       "      <td>22431</td>\n",
       "      <td>163</td>\n",
       "      <td>72.0</td>\n",
       "      <td>135</td>\n",
       "      <td>1</td>\n",
       "      <td>1</td>\n",
       "      <td>27</td>\n",
       "      <td>98.0</td>\n",
       "    </tr>\n",
       "    <tr>\n",
       "      <th>69999</th>\n",
       "      <td>20540</td>\n",
       "      <td>170</td>\n",
       "      <td>72.0</td>\n",
       "      <td>120</td>\n",
       "      <td>2</td>\n",
       "      <td>0</td>\n",
       "      <td>24</td>\n",
       "      <td>93.0</td>\n",
       "    </tr>\n",
       "  </tbody>\n",
       "</table>\n",
       "<p>68764 rows × 8 columns</p>\n",
       "</div>"
      ],
      "text/plain": [
       "       age_days  height  weight  ap_hi  cholesterol  cardio  BMI    MAP\n",
       "0         18393     168    62.0    110            1       0   21   90.0\n",
       "1         20228     156    85.0    140            3       1   34  107.0\n",
       "2         18857     165    64.0    130            3       1   23   90.0\n",
       "3         17623     169    82.0    150            1       1   28  117.0\n",
       "4         17474     156    56.0    100            1       0   23   73.0\n",
       "...         ...     ...     ...    ...          ...     ...  ...    ...\n",
       "69995     19240     168    76.0    120            1       0   26   93.0\n",
       "69996     22601     158   126.0    140            2       1   50  107.0\n",
       "69997     19066     183   105.0    180            3       1   31  120.0\n",
       "69998     22431     163    72.0    135            1       1   27   98.0\n",
       "69999     20540     170    72.0    120            2       0   24   93.0\n",
       "\n",
       "[68764 rows x 8 columns]"
      ]
     },
     "execution_count": 51,
     "metadata": {},
     "output_type": "execute_result"
    }
   ],
   "source": [
    "df1 = df.drop(['smoke','alco','active','gender','gluc','ap_lo' ], axis = 1)\n",
    "df1"
   ]
  },
  {
   "cell_type": "markdown",
   "metadata": {},
   "source": [
    "### Lats try to fit the new Data Frame with the same model:"
   ]
  },
  {
   "cell_type": "code",
   "execution_count": 52,
   "metadata": {},
   "outputs": [],
   "source": [
    "# Split Data\n",
    "y1 = df1['cardio']\n",
    "x1 = df1.drop(['cardio'], axis =1)\n",
    "\n",
    "#split x and y to trin and test\n",
    "x1_train , x1_test , y1_train , y1_test = split(x1,y1 ,train_size = 0.8 , shuffle = True , random_state = 1)\n",
    "\n",
    "#scal data\n",
    "scal_x1_train = pd.DataFrame(StandardScaler().fit(x1_train).transform(x1_train),columns=x1.columns)\n",
    "scal_x1_test = pd.DataFrame(StandardScaler().fit(x1_train).transform(x1_test),columns=x1.columns)\n",
    "scal_x1 = pd.DataFrame(StandardScaler().fit(x1).transform(x1),columns=x1.columns)"
   ]
  },
  {
   "cell_type": "code",
   "execution_count": 133,
   "metadata": {},
   "outputs": [
    {
     "name": "stdout",
     "output_type": "stream",
     "text": [
      "AdaBoostClassifier mean accuracy: 72.76%\n"
     ]
    }
   ],
   "source": [
    "Ada = AdaBoostClassifier(\n",
    "    DT,n_estimators=220,algorithm=\"SAMME.R\",learning_rate=0.37\n",
    "    )\n",
    "Ada.fit(scal_x1_train, y1_train)\n",
    "print(\"AdaBoostClassifier mean accuracy: {:.2f}%\".format(Ada.score(scal_x1_test, y1_test)*100))"
   ]
  },
  {
   "cell_type": "markdown",
   "metadata": {},
   "source": [
    "## we can see that the result is still Better from the first model(Logistic Regression) with almost half of the features!!"
   ]
  },
  {
   "cell_type": "markdown",
   "metadata": {},
   "source": [
    "# Now lats use PCA "
   ]
  },
  {
   "cell_type": "code",
   "execution_count": 55,
   "metadata": {},
   "outputs": [],
   "source": [
    "from sklearn.decomposition import PCA"
   ]
  },
  {
   "cell_type": "code",
   "execution_count": 183,
   "metadata": {},
   "outputs": [
    {
     "data": {
      "text/html": [
       "<div>\n",
       "<style scoped>\n",
       "    .dataframe tbody tr th:only-of-type {\n",
       "        vertical-align: middle;\n",
       "    }\n",
       "\n",
       "    .dataframe tbody tr th {\n",
       "        vertical-align: top;\n",
       "    }\n",
       "\n",
       "    .dataframe thead th {\n",
       "        text-align: right;\n",
       "    }\n",
       "</style>\n",
       "<table border=\"1\" class=\"dataframe\">\n",
       "  <thead>\n",
       "    <tr style=\"text-align: right;\">\n",
       "      <th></th>\n",
       "      <th>age_days</th>\n",
       "      <th>gender</th>\n",
       "      <th>height</th>\n",
       "      <th>weight</th>\n",
       "      <th>ap_hi</th>\n",
       "      <th>ap_lo</th>\n",
       "      <th>cholesterol</th>\n",
       "      <th>gluc</th>\n",
       "      <th>smoke</th>\n",
       "      <th>alco</th>\n",
       "      <th>active</th>\n",
       "      <th>BMI</th>\n",
       "      <th>MAP</th>\n",
       "    </tr>\n",
       "  </thead>\n",
       "  <tbody>\n",
       "    <tr>\n",
       "      <th>0</th>\n",
       "      <td>-0.433968</td>\n",
       "      <td>1.366936</td>\n",
       "      <td>0.444443</td>\n",
       "      <td>-0.845292</td>\n",
       "      <td>-0.121393</td>\n",
       "      <td>-0.128458</td>\n",
       "      <td>-0.537162</td>\n",
       "      <td>-0.394760</td>\n",
       "      <td>-0.310399</td>\n",
       "      <td>-0.237376</td>\n",
       "      <td>0.494591</td>\n",
       "      <td>-0.992054</td>\n",
       "      <td>-0.133197</td>\n",
       "    </tr>\n",
       "    <tr>\n",
       "      <th>1</th>\n",
       "      <td>0.309472</td>\n",
       "      <td>-0.731563</td>\n",
       "      <td>-1.020653</td>\n",
       "      <td>0.759645</td>\n",
       "      <td>0.071903</td>\n",
       "      <td>0.903143</td>\n",
       "      <td>2.408877</td>\n",
       "      <td>-0.394760</td>\n",
       "      <td>-0.310399</td>\n",
       "      <td>-0.237376</td>\n",
       "      <td>0.494591</td>\n",
       "      <td>1.146842</td>\n",
       "      <td>0.189765</td>\n",
       "    </tr>\n",
       "    <tr>\n",
       "      <th>2</th>\n",
       "      <td>-0.245981</td>\n",
       "      <td>-0.731563</td>\n",
       "      <td>0.078169</td>\n",
       "      <td>-0.705732</td>\n",
       "      <td>0.007471</td>\n",
       "      <td>-1.160059</td>\n",
       "      <td>2.408877</td>\n",
       "      <td>-0.394760</td>\n",
       "      <td>-0.310399</td>\n",
       "      <td>-0.237376</td>\n",
       "      <td>-2.021874</td>\n",
       "      <td>-0.662993</td>\n",
       "      <td>-0.133197</td>\n",
       "    </tr>\n",
       "    <tr>\n",
       "      <th>3</th>\n",
       "      <td>-0.745929</td>\n",
       "      <td>1.366936</td>\n",
       "      <td>0.566534</td>\n",
       "      <td>0.550306</td>\n",
       "      <td>0.136335</td>\n",
       "      <td>1.934743</td>\n",
       "      <td>-0.537162</td>\n",
       "      <td>-0.394760</td>\n",
       "      <td>-0.310399</td>\n",
       "      <td>-0.237376</td>\n",
       "      <td>0.494591</td>\n",
       "      <td>0.159659</td>\n",
       "      <td>0.379743</td>\n",
       "    </tr>\n",
       "    <tr>\n",
       "      <th>4</th>\n",
       "      <td>-0.806295</td>\n",
       "      <td>-0.731563</td>\n",
       "      <td>-1.020653</td>\n",
       "      <td>-1.263972</td>\n",
       "      <td>-0.185825</td>\n",
       "      <td>-2.191659</td>\n",
       "      <td>-0.537162</td>\n",
       "      <td>-0.394760</td>\n",
       "      <td>-0.310399</td>\n",
       "      <td>-0.237376</td>\n",
       "      <td>-2.021874</td>\n",
       "      <td>-0.662993</td>\n",
       "      <td>-0.456158</td>\n",
       "    </tr>\n",
       "    <tr>\n",
       "      <th>...</th>\n",
       "      <td>...</td>\n",
       "      <td>...</td>\n",
       "      <td>...</td>\n",
       "      <td>...</td>\n",
       "      <td>...</td>\n",
       "      <td>...</td>\n",
       "      <td>...</td>\n",
       "      <td>...</td>\n",
       "      <td>...</td>\n",
       "      <td>...</td>\n",
       "      <td>...</td>\n",
       "      <td>...</td>\n",
       "      <td>...</td>\n",
       "    </tr>\n",
       "    <tr>\n",
       "      <th>68759</th>\n",
       "      <td>-0.090811</td>\n",
       "      <td>1.366936</td>\n",
       "      <td>0.444443</td>\n",
       "      <td>0.131626</td>\n",
       "      <td>-0.056961</td>\n",
       "      <td>-0.128458</td>\n",
       "      <td>-0.537162</td>\n",
       "      <td>-0.394760</td>\n",
       "      <td>3.221664</td>\n",
       "      <td>-0.237376</td>\n",
       "      <td>0.494591</td>\n",
       "      <td>-0.169402</td>\n",
       "      <td>-0.076203</td>\n",
       "    </tr>\n",
       "    <tr>\n",
       "      <th>68760</th>\n",
       "      <td>1.270879</td>\n",
       "      <td>-0.731563</td>\n",
       "      <td>-0.776470</td>\n",
       "      <td>3.620621</td>\n",
       "      <td>0.071903</td>\n",
       "      <td>0.903143</td>\n",
       "      <td>0.935857</td>\n",
       "      <td>1.355193</td>\n",
       "      <td>-0.310399</td>\n",
       "      <td>-0.237376</td>\n",
       "      <td>0.494591</td>\n",
       "      <td>3.779329</td>\n",
       "      <td>0.189765</td>\n",
       "    </tr>\n",
       "    <tr>\n",
       "      <th>68761</th>\n",
       "      <td>-0.161306</td>\n",
       "      <td>1.366936</td>\n",
       "      <td>2.275812</td>\n",
       "      <td>2.155243</td>\n",
       "      <td>0.329631</td>\n",
       "      <td>0.903143</td>\n",
       "      <td>2.408877</td>\n",
       "      <td>-0.394760</td>\n",
       "      <td>-0.310399</td>\n",
       "      <td>4.212719</td>\n",
       "      <td>-2.021874</td>\n",
       "      <td>0.653250</td>\n",
       "      <td>0.436736</td>\n",
       "    </tr>\n",
       "    <tr>\n",
       "      <th>68762</th>\n",
       "      <td>1.202004</td>\n",
       "      <td>-0.731563</td>\n",
       "      <td>-0.166014</td>\n",
       "      <td>-0.147493</td>\n",
       "      <td>0.039687</td>\n",
       "      <td>-0.128458</td>\n",
       "      <td>-0.537162</td>\n",
       "      <td>1.355193</td>\n",
       "      <td>-0.310399</td>\n",
       "      <td>-0.237376</td>\n",
       "      <td>-2.021874</td>\n",
       "      <td>-0.004872</td>\n",
       "      <td>0.018785</td>\n",
       "    </tr>\n",
       "    <tr>\n",
       "      <th>68763</th>\n",
       "      <td>0.435877</td>\n",
       "      <td>-0.731563</td>\n",
       "      <td>0.688625</td>\n",
       "      <td>-0.147493</td>\n",
       "      <td>-0.056961</td>\n",
       "      <td>-0.128458</td>\n",
       "      <td>0.935857</td>\n",
       "      <td>-0.394760</td>\n",
       "      <td>-0.310399</td>\n",
       "      <td>-0.237376</td>\n",
       "      <td>0.494591</td>\n",
       "      <td>-0.498463</td>\n",
       "      <td>-0.076203</td>\n",
       "    </tr>\n",
       "  </tbody>\n",
       "</table>\n",
       "<p>68764 rows × 13 columns</p>\n",
       "</div>"
      ],
      "text/plain": [
       "       age_days    gender    height    weight     ap_hi     ap_lo  \\\n",
       "0     -0.433968  1.366936  0.444443 -0.845292 -0.121393 -0.128458   \n",
       "1      0.309472 -0.731563 -1.020653  0.759645  0.071903  0.903143   \n",
       "2     -0.245981 -0.731563  0.078169 -0.705732  0.007471 -1.160059   \n",
       "3     -0.745929  1.366936  0.566534  0.550306  0.136335  1.934743   \n",
       "4     -0.806295 -0.731563 -1.020653 -1.263972 -0.185825 -2.191659   \n",
       "...         ...       ...       ...       ...       ...       ...   \n",
       "68759 -0.090811  1.366936  0.444443  0.131626 -0.056961 -0.128458   \n",
       "68760  1.270879 -0.731563 -0.776470  3.620621  0.071903  0.903143   \n",
       "68761 -0.161306  1.366936  2.275812  2.155243  0.329631  0.903143   \n",
       "68762  1.202004 -0.731563 -0.166014 -0.147493  0.039687 -0.128458   \n",
       "68763  0.435877 -0.731563  0.688625 -0.147493 -0.056961 -0.128458   \n",
       "\n",
       "       cholesterol      gluc     smoke      alco    active       BMI       MAP  \n",
       "0        -0.537162 -0.394760 -0.310399 -0.237376  0.494591 -0.992054 -0.133197  \n",
       "1         2.408877 -0.394760 -0.310399 -0.237376  0.494591  1.146842  0.189765  \n",
       "2         2.408877 -0.394760 -0.310399 -0.237376 -2.021874 -0.662993 -0.133197  \n",
       "3        -0.537162 -0.394760 -0.310399 -0.237376  0.494591  0.159659  0.379743  \n",
       "4        -0.537162 -0.394760 -0.310399 -0.237376 -2.021874 -0.662993 -0.456158  \n",
       "...            ...       ...       ...       ...       ...       ...       ...  \n",
       "68759    -0.537162 -0.394760  3.221664 -0.237376  0.494591 -0.169402 -0.076203  \n",
       "68760     0.935857  1.355193 -0.310399 -0.237376  0.494591  3.779329  0.189765  \n",
       "68761     2.408877 -0.394760 -0.310399  4.212719 -2.021874  0.653250  0.436736  \n",
       "68762    -0.537162  1.355193 -0.310399 -0.237376 -2.021874 -0.004872  0.018785  \n",
       "68763     0.935857 -0.394760 -0.310399 -0.237376  0.494591 -0.498463 -0.076203  \n",
       "\n",
       "[68764 rows x 13 columns]"
      ]
     },
     "execution_count": 183,
     "metadata": {},
     "output_type": "execute_result"
    }
   ],
   "source": [
    "# Split Data\n",
    "y2 = df['cardio']\n",
    "x2 = df.drop(['cardio'], axis =1)\n",
    "col = x2.columns\n",
    "x2 = StandardScaler().fit_transform(x2)\n",
    "\n",
    "pd.DataFrame(data = x2, columns = col)\n"
   ]
  },
  {
   "cell_type": "code",
   "execution_count": 179,
   "metadata": {},
   "outputs": [
    {
     "data": {
      "text/html": [
       "<div>\n",
       "<style scoped>\n",
       "    .dataframe tbody tr th:only-of-type {\n",
       "        vertical-align: middle;\n",
       "    }\n",
       "\n",
       "    .dataframe tbody tr th {\n",
       "        vertical-align: top;\n",
       "    }\n",
       "\n",
       "    .dataframe thead th {\n",
       "        text-align: right;\n",
       "    }\n",
       "</style>\n",
       "<table border=\"1\" class=\"dataframe\">\n",
       "  <thead>\n",
       "    <tr style=\"text-align: right;\">\n",
       "      <th></th>\n",
       "      <th>1</th>\n",
       "      <th>2</th>\n",
       "      <th>3</th>\n",
       "      <th>4</th>\n",
       "      <th>5</th>\n",
       "      <th>6</th>\n",
       "      <th>7</th>\n",
       "      <th>8</th>\n",
       "      <th>cardio</th>\n",
       "    </tr>\n",
       "  </thead>\n",
       "  <tbody>\n",
       "    <tr>\n",
       "      <th>0</th>\n",
       "      <td>-1.094866</td>\n",
       "      <td>-0.954732</td>\n",
       "      <td>0.960394</td>\n",
       "      <td>-0.117537</td>\n",
       "      <td>-0.623521</td>\n",
       "      <td>-0.594277</td>\n",
       "      <td>0.306502</td>\n",
       "      <td>-0.214584</td>\n",
       "      <td>0.0</td>\n",
       "    </tr>\n",
       "    <tr>\n",
       "      <th>1</th>\n",
       "      <td>1.608210</td>\n",
       "      <td>1.444273</td>\n",
       "      <td>-1.341748</td>\n",
       "      <td>-0.346016</td>\n",
       "      <td>0.474949</td>\n",
       "      <td>-0.500862</td>\n",
       "      <td>0.139493</td>\n",
       "      <td>-0.529062</td>\n",
       "      <td>1.0</td>\n",
       "    </tr>\n",
       "    <tr>\n",
       "      <th>2</th>\n",
       "      <td>-0.599239</td>\n",
       "      <td>0.817126</td>\n",
       "      <td>0.039233</td>\n",
       "      <td>-1.371233</td>\n",
       "      <td>-0.608718</td>\n",
       "      <td>2.134964</td>\n",
       "      <td>-0.281823</td>\n",
       "      <td>0.235680</td>\n",
       "      <td>1.0</td>\n",
       "    </tr>\n",
       "    <tr>\n",
       "      <th>3</th>\n",
       "      <td>0.957138</td>\n",
       "      <td>-1.063063</td>\n",
       "      <td>0.240676</td>\n",
       "      <td>0.911607</td>\n",
       "      <td>-0.814775</td>\n",
       "      <td>-0.932670</td>\n",
       "      <td>0.136196</td>\n",
       "      <td>-1.597939</td>\n",
       "      <td>1.0</td>\n",
       "    </tr>\n",
       "    <tr>\n",
       "      <th>4</th>\n",
       "      <td>-2.329062</td>\n",
       "      <td>1.085595</td>\n",
       "      <td>0.769170</td>\n",
       "      <td>0.202441</td>\n",
       "      <td>0.211751</td>\n",
       "      <td>2.431041</td>\n",
       "      <td>-0.289083</td>\n",
       "      <td>0.789372</td>\n",
       "      <td>0.0</td>\n",
       "    </tr>\n",
       "    <tr>\n",
       "      <th>...</th>\n",
       "      <td>...</td>\n",
       "      <td>...</td>\n",
       "      <td>...</td>\n",
       "      <td>...</td>\n",
       "      <td>...</td>\n",
       "      <td>...</td>\n",
       "      <td>...</td>\n",
       "      <td>...</td>\n",
       "      <td>...</td>\n",
       "    </tr>\n",
       "    <tr>\n",
       "      <th>68759</th>\n",
       "      <td>0.035440</td>\n",
       "      <td>-2.521969</td>\n",
       "      <td>0.378129</td>\n",
       "      <td>0.076141</td>\n",
       "      <td>0.879725</td>\n",
       "      <td>-0.363807</td>\n",
       "      <td>-0.185492</td>\n",
       "      <td>0.460247</td>\n",
       "      <td>0.0</td>\n",
       "    </tr>\n",
       "    <tr>\n",
       "      <th>68760</th>\n",
       "      <td>4.040876</td>\n",
       "      <td>1.347065</td>\n",
       "      <td>-3.539500</td>\n",
       "      <td>1.337022</td>\n",
       "      <td>0.273363</td>\n",
       "      <td>-0.364436</td>\n",
       "      <td>0.484159</td>\n",
       "      <td>0.952283</td>\n",
       "      <td>0.0</td>\n",
       "    </tr>\n",
       "    <tr>\n",
       "      <th>68761</th>\n",
       "      <td>2.984364</td>\n",
       "      <td>-3.148663</td>\n",
       "      <td>-1.037736</td>\n",
       "      <td>-0.498368</td>\n",
       "      <td>0.300769</td>\n",
       "      <td>1.995248</td>\n",
       "      <td>-1.009536</td>\n",
       "      <td>-0.599392</td>\n",
       "      <td>1.0</td>\n",
       "    </tr>\n",
       "    <tr>\n",
       "      <th>68762</th>\n",
       "      <td>0.136090</td>\n",
       "      <td>0.992902</td>\n",
       "      <td>-0.297073</td>\n",
       "      <td>-0.600669</td>\n",
       "      <td>-0.841506</td>\n",
       "      <td>1.403759</td>\n",
       "      <td>-1.396826</td>\n",
       "      <td>0.635685</td>\n",
       "      <td>1.0</td>\n",
       "    </tr>\n",
       "    <tr>\n",
       "      <th>68763</th>\n",
       "      <td>-0.213351</td>\n",
       "      <td>0.300561</td>\n",
       "      <td>0.021386</td>\n",
       "      <td>-0.584202</td>\n",
       "      <td>-0.415071</td>\n",
       "      <td>-0.614216</td>\n",
       "      <td>0.195059</td>\n",
       "      <td>0.119338</td>\n",
       "      <td>0.0</td>\n",
       "    </tr>\n",
       "  </tbody>\n",
       "</table>\n",
       "<p>68764 rows × 9 columns</p>\n",
       "</div>"
      ],
      "text/plain": [
       "              1         2         3         4         5         6         7  \\\n",
       "0     -1.094866 -0.954732  0.960394 -0.117537 -0.623521 -0.594277  0.306502   \n",
       "1      1.608210  1.444273 -1.341748 -0.346016  0.474949 -0.500862  0.139493   \n",
       "2     -0.599239  0.817126  0.039233 -1.371233 -0.608718  2.134964 -0.281823   \n",
       "3      0.957138 -1.063063  0.240676  0.911607 -0.814775 -0.932670  0.136196   \n",
       "4     -2.329062  1.085595  0.769170  0.202441  0.211751  2.431041 -0.289083   \n",
       "...         ...       ...       ...       ...       ...       ...       ...   \n",
       "68759  0.035440 -2.521969  0.378129  0.076141  0.879725 -0.363807 -0.185492   \n",
       "68760  4.040876  1.347065 -3.539500  1.337022  0.273363 -0.364436  0.484159   \n",
       "68761  2.984364 -3.148663 -1.037736 -0.498368  0.300769  1.995248 -1.009536   \n",
       "68762  0.136090  0.992902 -0.297073 -0.600669 -0.841506  1.403759 -1.396826   \n",
       "68763 -0.213351  0.300561  0.021386 -0.584202 -0.415071 -0.614216  0.195059   \n",
       "\n",
       "              8  cardio  \n",
       "0     -0.214584     0.0  \n",
       "1     -0.529062     1.0  \n",
       "2      0.235680     1.0  \n",
       "3     -1.597939     1.0  \n",
       "4      0.789372     0.0  \n",
       "...         ...     ...  \n",
       "68759  0.460247     0.0  \n",
       "68760  0.952283     0.0  \n",
       "68761 -0.599392     1.0  \n",
       "68762  0.635685     1.0  \n",
       "68763  0.119338     0.0  \n",
       "\n",
       "[68764 rows x 9 columns]"
      ]
     },
     "execution_count": 179,
     "metadata": {},
     "output_type": "execute_result"
    }
   ],
   "source": [
    "pca = PCA(n_components=8)\n",
    "principalComponents = pca.fit_transform(x2)\n",
    "principalDf = pd.DataFrame(data = principalComponents\n",
    "             , columns = ['1', '2', '3','4','5','6','7','8'])\n",
    "principalDf[\"cardio\"] = y2\n",
    "principalDf"
   ]
  },
  {
   "cell_type": "code",
   "execution_count": 180,
   "metadata": {},
   "outputs": [],
   "source": [
    "x2_train , x2_test , y2_train , y2_test = split(principalComponents,y2 ,train_size = 0.8 , shuffle = True , random_state = 1)"
   ]
  },
  {
   "cell_type": "code",
   "execution_count": 185,
   "metadata": {},
   "outputs": [
    {
     "name": "stdout",
     "output_type": "stream",
     "text": [
      "AdaBoostClassifier mean accuracy: 70.92%\n"
     ]
    }
   ],
   "source": [
    "Ada = AdaBoostClassifier(\n",
    "    DT,n_estimators=220,algorithm=\"SAMME.R\",learning_rate=0.37\n",
    "    )\n",
    "Ada.fit(x2_train, y2_train)\n",
    "print(\"AdaBoostClassifier mean accuracy: {:.2f}%\".format(Ada.score(x2_test, y2_test)*100))"
   ]
  },
  {
   "cell_type": "markdown",
   "metadata": {},
   "source": [
    "### This time PCA did not work so well for us..."
   ]
  },
  {
   "cell_type": "markdown",
   "metadata": {},
   "source": [
    "## To conclude the best result we have reached is 72.76% percent with only 8 features compared to the 14 we had at the beginning. we get this result by manually looking for the least important features and remove them."
   ]
  },
  {
   "cell_type": "code",
   "execution_count": null,
   "metadata": {},
   "outputs": [],
   "source": []
  }
 ],
 "metadata": {
  "kernelspec": {
   "display_name": "Python 3",
   "language": "python",
   "name": "python3"
  },
  "language_info": {
   "codemirror_mode": {
    "name": "ipython",
    "version": 3
   },
   "file_extension": ".py",
   "mimetype": "text/x-python",
   "name": "python",
   "nbconvert_exporter": "python",
   "pygments_lexer": "ipython3",
   "version": "3.8.3"
  }
 },
 "nbformat": 4,
 "nbformat_minor": 4
}
